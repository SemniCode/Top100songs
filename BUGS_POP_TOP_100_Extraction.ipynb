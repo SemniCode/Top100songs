{
  "nbformat": 4,
  "nbformat_minor": 0,
  "metadata": {
    "colab": {
      "name": "BUGS POP TOP 100 Extraction",
      "provenance": []
    },
    "kernelspec": {
      "name": "python3",
      "display_name": "Python 3"
    },
    "language_info": {
      "name": "python"
    }
  },
  "cells": [
    {
      "cell_type": "markdown",
      "source": [
        "'BUGS' (Music streaming platform) POP TOP 100 Extraction\n",
        "\n"
      ],
      "metadata": {
        "id": "PJ4Dd807pLjI"
      }
    },
    {
      "cell_type": "code",
      "execution_count": null,
      "metadata": {
        "id": "7dd2qci4xBx4"
      },
      "outputs": [],
      "source": [
        "import re\n",
        "import pandas as pd\n",
        "import requests\n",
        "from bs4 import BeautifulSoup\n",
        "\n",
        "data = requests.get('https://music.bugs.co.kr/chart/track/day/nfpop')\n",
        "soup = BeautifulSoup(data.text, 'html.parser')"
      ]
    },
    {
      "cell_type": "code",
      "source": [
        "rank_list = soup.select('.list > tbody > tr')"
      ],
      "metadata": {
        "id": "kT8w3AreQzRV"
      },
      "execution_count": null,
      "outputs": []
    },
    {
      "cell_type": "code",
      "source": [
        "# From Top 1 to Top 100 (Rank, Title, Singer)\n",
        "\n",
        "for rank_list in rank_list:\n",
        "    ranking = rank_list.select_one('td > div.ranking > strong').text\n",
        "    m_title = rank_list.select_one('th > .title > a').text\n",
        "    m_artist = rank_list.select_one('td.left > .artist > a').text\n",
        "    print(ranking, m_title, m_artist)"
      ],
      "metadata": {
        "colab": {
          "base_uri": "https://localhost:8080/"
        },
        "id": "lpJTZu1YQ5UZ",
        "outputId": "957ee991-65f8-4731-eebe-d2051819d25b"
      },
      "execution_count": null,
      "outputs": [
        {
          "output_type": "stream",
          "name": "stdout",
          "text": [
            "1 That's Hilarious Charlie Puth(찰리 푸스)\n",
            "2 STAY The Kid LAROI\n",
            "3 I Just Called Neiked\n",
            "4 Light Switch Charlie Puth(찰리 푸스)\n",
            "5 Off My Face Justin Bieber(저스틴 비버)\n",
            "6 All 4 Nothing (I'm So In Love) Lauv(라우브)\n",
            "7 As It Was Harry Styles(해리 스타일스)\n",
            "8 Stronger (What Doesn't Kill You) Kelly Clarkson(켈리 클락슨)\n",
            "9 abcdefu GAYLE\n",
            "10 Every Second Mina Okabe\n",
            "11 Bad Habits Ed Sheeran(에드 시런)\n",
            "12 My Universe Coldplay(콜드플레이)\n",
            "13 Loving You Girl (feat. Hkeem) Peder Elias\n",
            "14 2step (feat. Lil Baby) Ed Sheeran(에드 시런)\n",
            "15 Late Night Talking Harry Styles(해리 스타일스)\n",
            "16 Just Friends Why Don't We(와이 돈 위)\n",
            "17 Peaches (feat. Daniel Caesar, Giveon) Justin Bieber(저스틴 비버)\n",
            "18 Jiggle Jiggle Duke & Jones(듀크 존스)\n",
            "19 The Drum Alan Walker(알렌 워커)\n",
            "20 Tiny Riot Sam Ryder\n",
            "21 About Damn Time Lizzo\n",
            "22 Out of Time The Weeknd(위켄드)\n",
            "23 Shivers Ed Sheeran(에드 시런)\n",
            "24 Kiss Me More (feat. SZA) Doja Cat(도자 캣)\n",
            "25 Shape Of You Ed Sheeran(에드 시런)\n",
            "26 When You're Gone Shawn Mendes(션 멘데스)\n",
            "27 A LOT John K\n",
            "28 Memories Maroon 5(마룬 파이브)\n",
            "29 As It Was Harry Styles(해리 스타일스)\n",
            "30 Leave Before You Love Me Marshmello(마시멜로)\n",
            "31 12:45 (Stripped) Etham\n",
            "32 Love Yourself Justin Bieber(저스틴 비버)\n",
            "33 The Weekend 88rising\n",
            "34 Paris In The Rain Lauv(라우브)\n",
            "35 One Life Ed Sheeran(에드 시런)\n",
            "36 Savage Love (Laxed - Siren Beat) (BTS Remix) Jawsh 685\n",
            "37 Better Days (feat. Polo G) Neiked\n",
            "38 Snowman Sia(시아)\n",
            "39 Angel Baby Troye Sivan(트로이 시반)\n",
            "40 Ashes Stellar\n",
            "41 Sunroof Nicky Youre\n",
            "42 Watermelon Sugar Harry Styles(해리 스타일스)\n",
            "43 Stay the Night Sigala(시갈라)\n",
            "44 Easy On Me Adele(아델)\n",
            "45 Save Your Tears (Remix) The Weeknd(위켄드)\n",
            "46 Don't Start Now Dua Lipa(두아 리파)\n",
            "47 Bam Bam (feat. Ed Sheeran) Camila Cabello(카밀라 카베요)\n",
            "48 Blinding Lights The Weeknd(위켄드)\n",
            "49 Stuck with U Ariana Grande(아리아나 그란데)\n",
            "50 Attention Charlie Puth(찰리 푸스)\n",
            "51 I'm Yours Jason Mraz(제이슨 므라즈)\n",
            "52 Numb Little Bug Em Beihold\n",
            "53 Better Alone Peder Elias\n",
            "54 Youth Troye Sivan(트로이 시반)\n",
            "55 Peter Pan Was Right Anson Seabra\n",
            "56 Feel Something Fiji Blue\n",
            "57 bad guy Billie Eilish(빌리 아일리시)\n",
            "58 One Call Away Charlie Puth(찰리 푸스)\n",
            "59 Unstoppable Sia(시아)\n",
            "60 Like 1999 Valley\n",
            "61 Juice Lizzo\n",
            "62 comethru Jeremy Zucker\n",
            "63 Maniac Conan Gray\n",
            "64 305 Shawn Mendes(션 멘데스)\n",
            "65 Quando, Quando, Quando (2004 Remaster) (드라마 ‘우리들의 블루스’ 삽입곡) Tony Renis(토니 레니스)\n",
            "66 Painkiller Ruel(루엘)\n",
            "67 Beautiful Mistakes Maroon 5(마룬 파이브)\n",
            "68 I'm Not The Only One Sam Smith(샘 스미스)\n",
            "69 Señorita Shawn Mendes(션 멘데스)\n",
            "70 Potion Calvin Harris(캘빈 해리스)\n",
            "71 Loving You Girl (feat. Hkeem) Peder Elias\n",
            "72 Sugar Maroon 5(마룬 파이브)\n",
            "73 Thousand Miles The Kid LAROI\n",
            "74 Know Me Too Well New Hope Club(뉴 호프 클럽)\n",
            "75 Enemy (from the series Arcane League of Legends) Imagine Dragons(이매진 드래곤스)\n",
            "76 Bad Boy 청하\n",
            "77 Closer (feat. Halsey) The Chainsmokers(체인스모커스)\n",
            "78 Tangerine Anthony Watts\n",
            "79 don't miss me Claire Rosinkranz\n",
            "80 Feels (feat. Katy Perry, Big Sean, Pharell) Calvin Harris(캘빈 해리스)\n",
            "81 Dancing With Your Ghost Sasha Alex Sloan\n",
            "82 High Hopes Panic! At The Disco(패닉 앳 더 디스코)\n",
            "83 Like My Father Jax(잭스)\n",
            "84 Bang! AJR\n",
            "85 Like Strangers Do AJ Mitchell(에이제이 미첼)\n",
            "86 what would you do? Tate McRae\n",
            "87 LAst dAy oN EaRTh Tai Verdes\n",
            "88 We Don't Talk Anymore (feat. Selena Gomez) Charlie Puth(찰리 푸스)\n",
            "89 i'm so tired... Lauv(라우브)\n",
            "90 IDGAF Dua Lipa(두아 리파)\n",
            "91 Green Green Grass George Ezra(조지 에즈라)\n",
            "92 10 Things I Hate About You Leah Kate\n",
            "93 Dance When You Cry Fiji Blue\n",
            "94 SPACE MAN Sam Ryder\n",
            "95 Everything Black Unlike Pluto\n",
            "96 dna LANY(레이니)\n",
            "97 blur Johnny Orlando\n",
            "98 To Die For Sam Smith(샘 스미스)\n",
            "99 Levitating Dua Lipa(두아 리파)\n",
            "100 I Blame The World Sasha Alex Sloan\n"
          ]
        }
      ]
    },
    {
      "cell_type": "code",
      "source": [
        "song_list = soup.find(\"table\", class_=\"list.trackList\") \n",
        "    # 해당 url에서 class가 list trackList인 'table' 태그의 데이터를 song_list에 담음\n",
        "\n",
        "titles = soup.select('p.title') # p 태그의 클래스가 title인 데이터\n",
        "artists = soup.select('p.artist') # p 태그의 클래스가 artist인 데이터\n",
        "albums = soup.select('td.left > a.album') # td 태그의 클래스가 left이고, 하위 데이터 중 a 태그의 클래스가 album인 데이터\n",
        "\n",
        "song_title = [] # 노래 제목\n",
        "song_artist = [] # 가수명\n",
        "album_list = [] # 앨범명\n",
        "like_counts = [] # 좋아요 수\n",
        "song_lyrics = [] # 가사\n",
        "album_img_url = [] # 앨범 이미지 url\n",
        "\n",
        "\n",
        "# 2. url에서 id 부분만 추출하기\n",
        "id_url_list = [] # 노래 고유 번호가 있는 href 데이터를 담는 리스트\n",
        "id_list = [] # 노래 고유 번호를 담는 리스트\n",
        "\n",
        "# 시대별 차트 리스트에서 url만 가져오기\n",
        "for elem in soup.find_all('a', href=re.compile('https://music.bugs.co.kr/track')): # 해당 url에서 a 태그를 전부 찾기\n",
        "  id_url_list.append(elem['href']) # a 태그 중에서 href 데이터만 따로 빼내서 id_url_list에 담기\n",
        "\n",
        "for j in range(len(id_url_list)):\n",
        "    a = id_url_list[j].lstrip('https://music.bugs.co.kr/track/')  # 링크1 제거\n",
        "        # lstrip() : 데이터의 왼쪽에서 괄호 안 데이터의 패턴이 발견되면 제거\n",
        "\n",
        "    a1 = a.rstrip('wl_ref=list_tr_08_mab')  # 링크2 제거\n",
        "        # rstrip() : 데이터의 오른쪽에서 괄호 안 데이터의 패턴이 발견되면 제거\n",
        "    b = a1.rstrip('?')  # 물음표 제거\n",
        "\n",
        "    id_list.append(b) # 여기까지 잘 나오는 중\n",
        "\n",
        "    # 타이틀, 가수, 앨범명\n",
        "for k in range(len(id_list)):\n",
        "    rank = k + 1 # k=0부터 시작\n",
        "\n",
        "    title = titles[k].text.strip().split('\\n')[0] # titles 데이터에서 양쪽 공백을 제거하고, \\n을 기준으로 분리\n",
        "    song_title.append(title) #song_title에 추가\n",
        "\n",
        "    artist = artists[k].text.strip().split('\\n')[0] # artists 데이터에서 양쪽 공백을 제거하고, \\n을 기준으로 분리\n",
        "    song_artist.append(artist) #song_artist에 추가\n",
        "\n",
        "    album = albums[k].text.strip().split('\\n')[0] # albums 데이터에서 양쪽 공백을 제거하고, \\n을 기준으로 분리\n",
        "    album_list.append(album) #album_list에 추가"
      ],
      "metadata": {
        "id": "cxC5rFCdQ6sF"
      },
      "execution_count": null,
      "outputs": []
    },
    {
      "cell_type": "code",
      "source": [
        "for m in range(len(id_list)):\n",
        "        l_url = 'https://music.bugs.co.kr/track/' + str(id_list[m]) + '?wl_ref=list_tr_08_mab' # 전체 url 생성 : 곡 상세 페이지\n",
        "        l_request = requests.get(l_url)\n",
        "        l_html = l_request.text\n",
        "        l_soup = BeautifulSoup(l_html, \"html.parser\")\n",
        "\n",
        "        # 좋아요\n",
        "        like_count = str(l_soup.select(\n",
        "            '#container > section.sectionPadding.summaryInfo.summaryTrack > div > div.etcInfo > span > a > span > em')) # 좋아요 데이터가 있는 html 구조\n",
        "        like_count = re.sub('<.+?>', '', like_count, 0) # 특수문자 제거\n",
        "        like_counts.append(like_count) # 리스트에 추가\n",
        "\n",
        "        # 가사\n",
        "        lyric = str(l_soup.select(\n",
        "            '#container > section.sectionPadding.contents.lyrics > div.innerContainer > div.lyricsContainer > p > xmp')) # 가사 데이터가 있는 html 구조\n",
        "        lyric = re.sub('<.+?>', '', lyric, 0)\n",
        "        song_lyrics.append(lyric)\n",
        "\n",
        "        # 앨범 이미지\n",
        "        a_img = l_soup.find(\"li\", class_=\"big\").find(\"img\") # li 태그의 class가 big인 곳에서, img 태그를 가진 것 찾기\n",
        "        img_src = a_img.get('src') # img 태그에서 src 데이터를 img_src에 담음\n",
        "        album_img_url.append(img_src) # 리스트에 추가\n",
        "\n",
        "print(str(m+1) + '위') # 현재 수집되고 있는지 rank만 출력\n",
        "\n"
      ],
      "metadata": {
        "colab": {
          "base_uri": "https://localhost:8080/"
        },
        "id": "_E_tz5hdRfK-",
        "outputId": "aa5e6ed8-4d66-4f98-cd1d-27df8a3e7b4e"
      },
      "execution_count": null,
      "outputs": [
        {
          "output_type": "stream",
          "name": "stdout",
          "text": [
            "100위\n"
          ]
        }
      ]
    },
    {
      "cell_type": "code",
      "source": [
        "# 가사가 잘 담겼는지 확인하기 위해 출력\n",
        "print(song_lyrics[1])"
      ],
      "metadata": {
        "id": "WOQfoP52T6u0",
        "outputId": "3594ed20-fe47-48b1-8614-c72d7b464043",
        "colab": {
          "base_uri": "https://localhost:8080/"
        }
      },
      "execution_count": null,
      "outputs": [
        {
          "output_type": "stream",
          "name": "stdout",
          "text": [
            "[\n",
            "\n",
            "I do the same thing\n",
            "I told you that I never would\n",
            "I told you I'd change,\n",
            "even when I knew I never could\n",
            "I know that I can’t find nobody else\n",
            "as good as you\n",
            "I need you to stay, need you to stay, hey (Oh)\n",
            "I get drunk, wake up, I'm wasted still\n",
            "I realize the time that I wasted here\n",
            "I feel like you can't feel the way I feel\n",
            "Oh, I’ll be f**ked up if you can't be right here\n",
            "Oh, ooh-woah (Oh, ooh-woah, ooh-woah)\n",
            "Oh, ooh-woah (Oh, ooh-woah, ooh-woah)\n",
            "Oh, ooh-woah (Oh, ooh-woah, ooh-woah)\n",
            "Oh, I'll be f**ked up if you can't be right here\n",
            "I do the same thing I told you\n",
            "that I never would\n",
            "I told you I'd change,\n",
            "even when I knew I never could\n",
            "I know that I can't find nobody else\n",
            "as good as you\n",
            "I need you to stay, need you to stay, hey\n",
            "I do the same thing I told you\n",
            "that I never would\n",
            "I told you I'd change,\n",
            "even when I knew I never could\n",
            "I know that I can't find nobody else\n",
            "as good as you\n",
            "I need you to stay, need you to stay, hey\n",
            "When I’m away from you,\n",
            "I miss your touch (Ooh)\n",
            "You’re the reason I believe in love\n",
            "It's been difficult for me to trust (Ooh)\n",
            "And I’m afraid that I'ma f**k it up \n",
            "Ain't no way that I can leave you stranded\n",
            "'Cause you ain’t ever left me empty-handed\n",
            "And you know that I know\n",
            "that I can't live without you\n",
            "So, baby, stay\n",
            "Oh, ooh-woah (Oh, ooh-woah, ooh-woah)\n",
            "Oh, ooh-woah (Oh, ooh-woah, ooh-woah)\n",
            "Oh, ooh-woah (Oh, ooh-woah, ooh-woah)\n",
            "I'll be f**ked up if you can't be right here\n",
            "I do the same thing I told you\n",
            "that I never would\n",
            "I told you I'd change,\n",
            "even when I knew I never could\n",
            "I know that I can't find nobody else\n",
            "as good as you\n",
            "I need you to stay, need you to stay, hey\n",
            "I do the same thing I told you\n",
            "that I never would\n",
            "I told you I'd change,\n",
            "even when I knew I never could\n",
            "I know that I can't find nobody else\n",
            "as good as you\n",
            "I need you to stay, need you to stay, hey\n",
            "Woah-oh\n",
            "I need you to stay, need you to stay, hey\n",
            "]\n"
          ]
        }
      ]
    },
    {
      "cell_type": "code",
      "source": [
        "from google.colab import drive \n",
        "drive.mount('/content/gdrive/')"
      ],
      "metadata": {
        "colab": {
          "base_uri": "https://localhost:8080/"
        },
        "id": "qLnME8GDmyLd",
        "outputId": "2f6d863f-8970-4f0e-c4ea-aee0c937b265"
      },
      "execution_count": null,
      "outputs": [
        {
          "output_type": "stream",
          "name": "stdout",
          "text": [
            "Mounted at /content/gdrive/\n"
          ]
        }
      ]
    },
    {
      "cell_type": "code",
      "source": [
        "column_list = { # dict-key\n",
        "        #'song_id': id_list,\n",
        "        'song_name': song_title,\n",
        "        'artist': song_artist,\n",
        "        #'album': album_list,\n",
        "        #'Like_Count': like_counts,\n",
        "        'Lyric': song_lyrics,\n",
        "        'cover_url': album_img_url\n",
        "}\n",
        "\n",
        "df = pd.DataFrame.from_dict(column_list, orient='index') # dict를 dataframe 형식으로 변환\n",
        "df = df.transpose() # 행과 열 전환\n",
        "\n",
        "file_path =  \"/content/gdrive/My Drive/Colab Notebooks/TXTData/\"\n",
        "\n",
        "file_name = \"BugsPopTop100\" + \".csv\"\n",
        "\n",
        "file_full_path = file_path + file_name\n",
        "\n",
        "df.to_csv(file_full_path ,  index = False, encoding=\"utf-8-sig\")  \n",
        "\n"
      ],
      "metadata": {
        "id": "CLxwELLcT8x7"
      },
      "execution_count": null,
      "outputs": []
    }
  ]
}